{
 "cells": [
  {
   "cell_type": "markdown",
   "metadata": {},
   "source": [
    "## Loan Data Analysis and Exploration\n",
    "\n",
    "In this project, I will analyze loan data obtained from Prosper (More information about below) and endeavour to asnwer the following questions with the outcome of my analysis.\n",
    "\n",
    "> What factors affect a loan’s outcome status?\n",
    "> What affects the borrower’s APR or interest rate?\n",
    "> Are there differences between loans depending on how large the original loan amount was?\n",
    "\n",
    "<a id='contents_table'></a>\n",
    "\n",
    "## Table of Contents\n",
    "- [Introduction](#intro)\n",
    "- [Part I - Preliminary Wrangling](#preliminary_wrangling)\n",
    "- [Part II - Univariate](#Univariate)\n",
    "- [Part III - Bivariate](#Bivariate)\n",
    "- [Part IV - Multivariate](#Multivariate)\n",
    "\n",
    "\n",
    "<a id='intro'></a>\n",
    "\n",
    "### Introduction\n",
    "\n",
    "This data set contains 113,937 loans with 81 variables on each loan, including loan amount, borrower rate (or interest rate), current loan status, borrower income, and many others. This data dictionary explains the variables in the data set. You are not expected to explore all of the variables in the dataset! Focus your exploration on about 10-15 of them.\n",
    "\n",
    "### About Us on Company Website\n",
    "\n",
    "Prosper was founded in 2005 as the first peer-to-peer lending marketplace in the United States. Since then, Prosper has facilitated more than $17 billion in loans to more than 1,010,000 people.\n",
    "\n",
    "Through Prosper, people can invest in each other in a way that is financially and socially rewarding. Borrowers apply online for a fixed-rate, fixed-term loan between $2,000 and $40,000. Individuals and institutions can invest in the loans and earn attractive returns. Prosper handles all loan servicing on behalf of the matched borrowers and investors.\n",
    "\n",
    "Prosper Marketplace is backed by leading investors including Sequoia Capital, Francisco Partners, Institutional Venture Partners, and Credit Suisse NEXT Fund.\n",
    "\n",
    "### Goals of Data Exploration\n",
    "\n",
    "In this project, the goals of exploring this dataset can be summarized into the following three parts:\n",
    "\n",
    "1. Find the distribution of investors.\n",
    "2. Find the yearly progression of the borrower rates of loans\n",
    "3. Find the relationship between borrower rate of loans, prosper ratings and customers who are home owners\n",
    "\n",
    "[Back to Table of Contents](#contents_table)"
   ]
  },
  {
   "cell_type": "markdown",
   "metadata": {},
   "source": [
    "<a id='preliminary_wrangling'></a>\n",
    "## 1. Loan Data Wrangling\n",
    "\n",
    "The first part of this project is the preliminary wrangling and it consists of the follwoing 3 steps - Gatherring, Assessing and Cleaning.\n",
    "\n",
    "### Selected Variables from Dataset\n",
    "\n",
    "There are 113937 records/rows along with 81 variables/columns in this dataset. Each of the 81 variables are clearly listed in the section above. They include the following  categorical variables which i find to be most helpful in achieving the outcome of this analysis.\n",
    "\n",
    "\n",
    "1. Investors ---- The number of investors that funded the loan.\n",
    "2. BorrowerRate ---- interest rate of the loan.\n",
    "3. ProsperRatings (numeric) ---- The  Prosper Rating assigned at the time the listing was created: 0 - N/A, 1 - HR, 2 - E, 3 - D, 4 - C, 5 - B, 6 - A, 7 - AA.  Applicable for loans originated after July 2009.\n",
    "4. IsBorrowerHomeOwner ---- whether the borrower is a homeowner or not.\n",
    "\n"
   ]
  },
  {
   "cell_type": "markdown",
   "metadata": {},
   "source": [
    "### 1.1 Gathering\n",
    "\n",
    "In this step, I'll be gathering required data by manually downloading datasets from the source. Thankfully, we were provided  with a link to a .csv by Udacity for this purpose.\n",
    "\n",
    "Additionally, I will be isolating my dataset to ensure that I focus only on variables that will greatly influence the goals of this project.\n",
    "\n",
    "[Back to Table of Contents](#contents_table)"
   ]
  },
  {
   "cell_type": "code",
   "execution_count": 159,
   "metadata": {},
   "outputs": [],
   "source": [
    "# importing all dependencies and configuring inline plots with matplotlib\n",
    "\n",
    "import pandas as pd\n",
    "import numpy as np\n",
    "import random\n",
    "import matplotlib.pyplot as plt\n",
    "import seaborn as sb\n",
    "\n",
    "%matplotlib inline\n"
   ]
  },
  {
   "cell_type": "code",
   "execution_count": 160,
   "metadata": {},
   "outputs": [],
   "source": [
    "# loading downloaded data into dataframe\n",
    "\n",
    "loans = pd.read_csv('prosperLoanData.csv')"
   ]
  },
  {
   "cell_type": "markdown",
   "metadata": {},
   "source": [
    "### 1.2 Assessing\n",
    "\n",
    "In this step, I'll be programmatically assessing data. Here, I'll clearly define the following aspects of our dataset:\n",
    "\n",
    "\n",
    "[Back to Table of Contents](#contents_table)"
   ]
  },
  {
   "cell_type": "code",
   "execution_count": 161,
   "metadata": {
    "scrolled": true
   },
   "outputs": [
    {
     "name": "stdout",
     "output_type": "stream",
     "text": [
      "The number of rows and columns is (113937, 81)\n"
     ]
    },
    {
     "data": {
      "text/html": [
       "<div>\n",
       "<style scoped>\n",
       "    .dataframe tbody tr th:only-of-type {\n",
       "        vertical-align: middle;\n",
       "    }\n",
       "\n",
       "    .dataframe tbody tr th {\n",
       "        vertical-align: top;\n",
       "    }\n",
       "\n",
       "    .dataframe thead th {\n",
       "        text-align: right;\n",
       "    }\n",
       "</style>\n",
       "<table border=\"1\" class=\"dataframe\">\n",
       "  <thead>\n",
       "    <tr style=\"text-align: right;\">\n",
       "      <th></th>\n",
       "      <th>ListingKey</th>\n",
       "      <th>ListingNumber</th>\n",
       "      <th>ListingCreationDate</th>\n",
       "      <th>CreditGrade</th>\n",
       "      <th>Term</th>\n",
       "      <th>LoanStatus</th>\n",
       "      <th>ClosedDate</th>\n",
       "      <th>BorrowerAPR</th>\n",
       "      <th>BorrowerRate</th>\n",
       "      <th>LenderYield</th>\n",
       "      <th>...</th>\n",
       "      <th>LP_ServiceFees</th>\n",
       "      <th>LP_CollectionFees</th>\n",
       "      <th>LP_GrossPrincipalLoss</th>\n",
       "      <th>LP_NetPrincipalLoss</th>\n",
       "      <th>LP_NonPrincipalRecoverypayments</th>\n",
       "      <th>PercentFunded</th>\n",
       "      <th>Recommendations</th>\n",
       "      <th>InvestmentFromFriendsCount</th>\n",
       "      <th>InvestmentFromFriendsAmount</th>\n",
       "      <th>Investors</th>\n",
       "    </tr>\n",
       "  </thead>\n",
       "  <tbody>\n",
       "    <tr>\n",
       "      <td>0</td>\n",
       "      <td>1021339766868145413AB3B</td>\n",
       "      <td>193129</td>\n",
       "      <td>2007-08-26 19:09:29.263000000</td>\n",
       "      <td>C</td>\n",
       "      <td>36</td>\n",
       "      <td>Completed</td>\n",
       "      <td>2009-08-14 00:00:00</td>\n",
       "      <td>0.16516</td>\n",
       "      <td>0.1580</td>\n",
       "      <td>0.1380</td>\n",
       "      <td>...</td>\n",
       "      <td>-133.18</td>\n",
       "      <td>0.0</td>\n",
       "      <td>0.0</td>\n",
       "      <td>0.0</td>\n",
       "      <td>0.0</td>\n",
       "      <td>1.0</td>\n",
       "      <td>0</td>\n",
       "      <td>0</td>\n",
       "      <td>0.0</td>\n",
       "      <td>258</td>\n",
       "    </tr>\n",
       "    <tr>\n",
       "      <td>1</td>\n",
       "      <td>10273602499503308B223C1</td>\n",
       "      <td>1209647</td>\n",
       "      <td>2014-02-27 08:28:07.900000000</td>\n",
       "      <td>NaN</td>\n",
       "      <td>36</td>\n",
       "      <td>Current</td>\n",
       "      <td>NaN</td>\n",
       "      <td>0.12016</td>\n",
       "      <td>0.0920</td>\n",
       "      <td>0.0820</td>\n",
       "      <td>...</td>\n",
       "      <td>0.00</td>\n",
       "      <td>0.0</td>\n",
       "      <td>0.0</td>\n",
       "      <td>0.0</td>\n",
       "      <td>0.0</td>\n",
       "      <td>1.0</td>\n",
       "      <td>0</td>\n",
       "      <td>0</td>\n",
       "      <td>0.0</td>\n",
       "      <td>1</td>\n",
       "    </tr>\n",
       "    <tr>\n",
       "      <td>2</td>\n",
       "      <td>0EE9337825851032864889A</td>\n",
       "      <td>81716</td>\n",
       "      <td>2007-01-05 15:00:47.090000000</td>\n",
       "      <td>HR</td>\n",
       "      <td>36</td>\n",
       "      <td>Completed</td>\n",
       "      <td>2009-12-17 00:00:00</td>\n",
       "      <td>0.28269</td>\n",
       "      <td>0.2750</td>\n",
       "      <td>0.2400</td>\n",
       "      <td>...</td>\n",
       "      <td>-24.20</td>\n",
       "      <td>0.0</td>\n",
       "      <td>0.0</td>\n",
       "      <td>0.0</td>\n",
       "      <td>0.0</td>\n",
       "      <td>1.0</td>\n",
       "      <td>0</td>\n",
       "      <td>0</td>\n",
       "      <td>0.0</td>\n",
       "      <td>41</td>\n",
       "    </tr>\n",
       "    <tr>\n",
       "      <td>3</td>\n",
       "      <td>0EF5356002482715299901A</td>\n",
       "      <td>658116</td>\n",
       "      <td>2012-10-22 11:02:35.010000000</td>\n",
       "      <td>NaN</td>\n",
       "      <td>36</td>\n",
       "      <td>Current</td>\n",
       "      <td>NaN</td>\n",
       "      <td>0.12528</td>\n",
       "      <td>0.0974</td>\n",
       "      <td>0.0874</td>\n",
       "      <td>...</td>\n",
       "      <td>-108.01</td>\n",
       "      <td>0.0</td>\n",
       "      <td>0.0</td>\n",
       "      <td>0.0</td>\n",
       "      <td>0.0</td>\n",
       "      <td>1.0</td>\n",
       "      <td>0</td>\n",
       "      <td>0</td>\n",
       "      <td>0.0</td>\n",
       "      <td>158</td>\n",
       "    </tr>\n",
       "    <tr>\n",
       "      <td>4</td>\n",
       "      <td>0F023589499656230C5E3E2</td>\n",
       "      <td>909464</td>\n",
       "      <td>2013-09-14 18:38:39.097000000</td>\n",
       "      <td>NaN</td>\n",
       "      <td>36</td>\n",
       "      <td>Current</td>\n",
       "      <td>NaN</td>\n",
       "      <td>0.24614</td>\n",
       "      <td>0.2085</td>\n",
       "      <td>0.1985</td>\n",
       "      <td>...</td>\n",
       "      <td>-60.27</td>\n",
       "      <td>0.0</td>\n",
       "      <td>0.0</td>\n",
       "      <td>0.0</td>\n",
       "      <td>0.0</td>\n",
       "      <td>1.0</td>\n",
       "      <td>0</td>\n",
       "      <td>0</td>\n",
       "      <td>0.0</td>\n",
       "      <td>20</td>\n",
       "    </tr>\n",
       "  </tbody>\n",
       "</table>\n",
       "<p>5 rows × 81 columns</p>\n",
       "</div>"
      ],
      "text/plain": [
       "                ListingKey  ListingNumber            ListingCreationDate  \\\n",
       "0  1021339766868145413AB3B         193129  2007-08-26 19:09:29.263000000   \n",
       "1  10273602499503308B223C1        1209647  2014-02-27 08:28:07.900000000   \n",
       "2  0EE9337825851032864889A          81716  2007-01-05 15:00:47.090000000   \n",
       "3  0EF5356002482715299901A         658116  2012-10-22 11:02:35.010000000   \n",
       "4  0F023589499656230C5E3E2         909464  2013-09-14 18:38:39.097000000   \n",
       "\n",
       "  CreditGrade  Term LoanStatus           ClosedDate  BorrowerAPR  \\\n",
       "0           C    36  Completed  2009-08-14 00:00:00      0.16516   \n",
       "1         NaN    36    Current                  NaN      0.12016   \n",
       "2          HR    36  Completed  2009-12-17 00:00:00      0.28269   \n",
       "3         NaN    36    Current                  NaN      0.12528   \n",
       "4         NaN    36    Current                  NaN      0.24614   \n",
       "\n",
       "   BorrowerRate  LenderYield  ...  LP_ServiceFees  LP_CollectionFees  \\\n",
       "0        0.1580       0.1380  ...         -133.18                0.0   \n",
       "1        0.0920       0.0820  ...            0.00                0.0   \n",
       "2        0.2750       0.2400  ...          -24.20                0.0   \n",
       "3        0.0974       0.0874  ...         -108.01                0.0   \n",
       "4        0.2085       0.1985  ...          -60.27                0.0   \n",
       "\n",
       "   LP_GrossPrincipalLoss  LP_NetPrincipalLoss LP_NonPrincipalRecoverypayments  \\\n",
       "0                    0.0                  0.0                             0.0   \n",
       "1                    0.0                  0.0                             0.0   \n",
       "2                    0.0                  0.0                             0.0   \n",
       "3                    0.0                  0.0                             0.0   \n",
       "4                    0.0                  0.0                             0.0   \n",
       "\n",
       "   PercentFunded  Recommendations InvestmentFromFriendsCount  \\\n",
       "0            1.0                0                          0   \n",
       "1            1.0                0                          0   \n",
       "2            1.0                0                          0   \n",
       "3            1.0                0                          0   \n",
       "4            1.0                0                          0   \n",
       "\n",
       "  InvestmentFromFriendsAmount Investors  \n",
       "0                         0.0       258  \n",
       "1                         0.0         1  \n",
       "2                         0.0        41  \n",
       "3                         0.0       158  \n",
       "4                         0.0        20  \n",
       "\n",
       "[5 rows x 81 columns]"
      ]
     },
     "execution_count": 161,
     "metadata": {},
     "output_type": "execute_result"
    }
   ],
   "source": [
    "# viewing the first 5 rows of our data helps to see what we are dealing with.\n",
    "# also viewing number of rows and columns present.\n",
    "\n",
    "print ('The number of rows and columns is', loans.shape)\n",
    "loans.head()"
   ]
  },
  {
   "cell_type": "code",
   "execution_count": 162,
   "metadata": {},
   "outputs": [],
   "source": [
    "# creating a dataframe with the abovementioned 6 variables\n",
    "\n",
    "loans_mark2 = loans[['BorrowerRate', 'IsBorrowerHomeowner',\n",
    "                   'Investors', 'ProsperRating (numeric)']].copy()"
   ]
  },
  {
   "cell_type": "code",
   "execution_count": 163,
   "metadata": {
    "scrolled": true
   },
   "outputs": [
    {
     "name": "stdout",
     "output_type": "stream",
     "text": [
      "<class 'pandas.core.frame.DataFrame'>\n",
      "RangeIndex: 113937 entries, 0 to 113936\n",
      "Data columns (total 4 columns):\n",
      "BorrowerRate               113937 non-null float64\n",
      "IsBorrowerHomeowner        113937 non-null bool\n",
      "Investors                  113937 non-null int64\n",
      "ProsperRating (numeric)    84853 non-null float64\n",
      "dtypes: bool(1), float64(2), int64(1)\n",
      "memory usage: 2.7 MB\n"
     ]
    }
   ],
   "source": [
    "# viewing additional information about our dataset \n",
    "# helps us to assess it effectively\n",
    "\n",
    "loans_mark2.info()"
   ]
  },
  {
   "cell_type": "markdown",
   "metadata": {},
   "source": [
    "#### 1.2.1 Quality Issues WIth Our dataset?\n",
    "\n",
    "1. Space in the column name 'ProsperRating (numeric)'\n",
    "\n",
    "2. ProsperRating has missing values.\n",
    "\n"
   ]
  },
  {
   "cell_type": "markdown",
   "metadata": {},
   "source": [
    "### 1.3 Cleaning\n",
    "\n",
    "In this step I'll be addressing the data quality issues in our dataset. For each issue we'll be adopting three key steps to clean our data:\n",
    "\n",
    "- Define - here, I'll define the problem\n",
    "- Code - here, I'll write and execute the code to solve the problem\n",
    "- Test - here, I'll test to see if the code has given the desired results\n",
    "\n",
    "Let's get started!\n",
    "\n",
    "[Back to Table of Contents](#contents_table)"
   ]
  },
  {
   "cell_type": "code",
   "execution_count": 164,
   "metadata": {},
   "outputs": [],
   "source": [
    "# first, we create a copy of our dataframe \n",
    "    # this is prevents us from making irreversable changes to our dataset\n",
    "# next, we perform data cleaning on this newly created dataframe\n",
    "\n",
    "loans_clean = loans_mark2.copy()"
   ]
  },
  {
   "cell_type": "markdown",
   "metadata": {},
   "source": [
    "### 1.3.1 Solving Issue 1: Removing space in the column 'ProsperRating' column\n",
    "\n",
    "#### Define \n",
    "Use pandas rename() function to remove the 'numeric' in the column name\n",
    "\n",
    "#### Code"
   ]
  },
  {
   "cell_type": "code",
   "execution_count": 165,
   "metadata": {},
   "outputs": [],
   "source": [
    "# removing space from column name using the panda rename function\n",
    "# I prefer the name Rating in lowercase than ProsperRating. \n",
    "# So, I'll see to that too with the code below\n",
    "\n",
    "loans_clean.rename(columns = {'ProsperRating (numeric)' : 'rating'}, inplace =True)"
   ]
  },
  {
   "cell_type": "code",
   "execution_count": 166,
   "metadata": {},
   "outputs": [],
   "source": [
    "# I also prefer that all column names begin with small letters\n",
    "# therefore, I'll change the remaining column names using the following code\n",
    "\n",
    "loans_clean.rename(columns = {'BorrowerRate':'borrowrate','IsBorrowerHomeowner':'isborrowerhomeowner',\n",
    "                   'Investors':'investors'}, inplace = True);"
   ]
  },
  {
   "cell_type": "markdown",
   "metadata": {},
   "source": [
    "#### Test"
   ]
  },
  {
   "cell_type": "code",
   "execution_count": 167,
   "metadata": {
    "scrolled": false
   },
   "outputs": [
    {
     "name": "stdout",
     "output_type": "stream",
     "text": [
      "<class 'pandas.core.frame.DataFrame'>\n",
      "RangeIndex: 113937 entries, 0 to 113936\n",
      "Data columns (total 4 columns):\n",
      "borrowrate             113937 non-null float64\n",
      "isborrowerhomeowner    113937 non-null bool\n",
      "investors              113937 non-null int64\n",
      "rating                 84853 non-null float64\n",
      "dtypes: bool(1), float64(2), int64(1)\n",
      "memory usage: 2.7 MB\n"
     ]
    }
   ],
   "source": [
    "# testing whether column name has been modified like we wanted\n",
    "\n",
    "loans_clean.info()\n",
    "\n",
    "# result is perfect! Exactly how we want."
   ]
  },
  {
   "cell_type": "markdown",
   "metadata": {},
   "source": [
    "### 1.3.2  Solving Issue 2: Missing values in ProsperRating column\n",
    "\n",
    "#### Define \n",
    "Use pandas na() and fillna() functions to remedy all missing values where necessary\n",
    "\n",
    "#### Code"
   ]
  },
  {
   "cell_type": "code",
   "execution_count": 168,
   "metadata": {},
   "outputs": [
    {
     "data": {
      "text/plain": [
       "29084"
      ]
     },
     "execution_count": 168,
     "metadata": {},
     "output_type": "execute_result"
    }
   ],
   "source": [
    "# check for missing values in rating (ProsperRating) column\n",
    "\n",
    "loans_clean['rating'].isnull().sum()"
   ]
  },
  {
   "cell_type": "markdown",
   "metadata": {},
   "source": [
    "> There are 29,000+ missing values in the 'rating' (ProsperRating) column. To deal with this issue, I'll be filling the missing records with mean of the values around them."
   ]
  },
  {
   "cell_type": "code",
   "execution_count": 169,
   "metadata": {},
   "outputs": [],
   "source": [
    "# filling missing values with mean using the fillna() function\n",
    "\n",
    "loans_clean['rating'].fillna(loans_clean['rating'].mean());\n",
    "\n",
    "# to ensure our result is permanent, I invoke the inplace=True keyword\n",
    "\n",
    "loans_clean['rating'].fillna(loans_clean['rating'].mean(), inplace=True)"
   ]
  },
  {
   "cell_type": "markdown",
   "metadata": {},
   "source": [
    "#### Test"
   ]
  },
  {
   "cell_type": "code",
   "execution_count": 170,
   "metadata": {
    "scrolled": false
   },
   "outputs": [
    {
     "name": "stdout",
     "output_type": "stream",
     "text": [
      "<class 'pandas.core.frame.DataFrame'>\n",
      "RangeIndex: 113937 entries, 0 to 113936\n",
      "Data columns (total 4 columns):\n",
      "borrowrate             113937 non-null float64\n",
      "isborrowerhomeowner    113937 non-null bool\n",
      "investors              113937 non-null int64\n",
      "rating                 113937 non-null float64\n",
      "dtypes: bool(1), float64(2), int64(1)\n",
      "memory usage: 2.7 MB\n",
      "None\n",
      " \n"
     ]
    },
    {
     "data": {
      "text/html": [
       "<div>\n",
       "<style scoped>\n",
       "    .dataframe tbody tr th:only-of-type {\n",
       "        vertical-align: middle;\n",
       "    }\n",
       "\n",
       "    .dataframe tbody tr th {\n",
       "        vertical-align: top;\n",
       "    }\n",
       "\n",
       "    .dataframe thead th {\n",
       "        text-align: right;\n",
       "    }\n",
       "</style>\n",
       "<table border=\"1\" class=\"dataframe\">\n",
       "  <thead>\n",
       "    <tr style=\"text-align: right;\">\n",
       "      <th></th>\n",
       "      <th>borrowrate</th>\n",
       "      <th>isborrowerhomeowner</th>\n",
       "      <th>investors</th>\n",
       "      <th>rating</th>\n",
       "    </tr>\n",
       "  </thead>\n",
       "  <tbody>\n",
       "    <tr>\n",
       "      <td>0</td>\n",
       "      <td>0.1580</td>\n",
       "      <td>True</td>\n",
       "      <td>258</td>\n",
       "      <td>4.072243</td>\n",
       "    </tr>\n",
       "    <tr>\n",
       "      <td>1</td>\n",
       "      <td>0.0920</td>\n",
       "      <td>False</td>\n",
       "      <td>1</td>\n",
       "      <td>6.000000</td>\n",
       "    </tr>\n",
       "    <tr>\n",
       "      <td>2</td>\n",
       "      <td>0.2750</td>\n",
       "      <td>False</td>\n",
       "      <td>41</td>\n",
       "      <td>4.072243</td>\n",
       "    </tr>\n",
       "    <tr>\n",
       "      <td>3</td>\n",
       "      <td>0.0974</td>\n",
       "      <td>True</td>\n",
       "      <td>158</td>\n",
       "      <td>6.000000</td>\n",
       "    </tr>\n",
       "    <tr>\n",
       "      <td>4</td>\n",
       "      <td>0.2085</td>\n",
       "      <td>True</td>\n",
       "      <td>20</td>\n",
       "      <td>3.000000</td>\n",
       "    </tr>\n",
       "  </tbody>\n",
       "</table>\n",
       "</div>"
      ],
      "text/plain": [
       "   borrowrate  isborrowerhomeowner  investors    rating\n",
       "0      0.1580                 True        258  4.072243\n",
       "1      0.0920                False          1  6.000000\n",
       "2      0.2750                False         41  4.072243\n",
       "3      0.0974                 True        158  6.000000\n",
       "4      0.2085                 True         20  3.000000"
      ]
     },
     "execution_count": 170,
     "metadata": {},
     "output_type": "execute_result"
    }
   ],
   "source": [
    "# checking to see if the code worked\n",
    "\n",
    "print(loans_clean.info())\n",
    "\n",
    "print (' ')\n",
    "\n",
    "loans_clean.head()"
   ]
  },
  {
   "cell_type": "markdown",
   "metadata": {},
   "source": [
    "> We can see that the info above shows the 'rating' column now has an equal number of values with other variables."
   ]
  },
  {
   "cell_type": "code",
   "execution_count": 171,
   "metadata": {},
   "outputs": [],
   "source": [
    "# storing the cleaned Dataframe\n",
    "\n",
    "loans_clean.to_csv('loans_clean.csv', index=False)"
   ]
  },
  {
   "cell_type": "markdown",
   "metadata": {},
   "source": [
    "<a id='Univariate'></a>\n",
    "\n",
    "## 2. Univariate Exploration\n",
    "\n"
   ]
  },
  {
   "cell_type": "markdown",
   "metadata": {},
   "source": [
    "### 2.1 Exploring Distributions of Investors for Prosper loans\n",
    "\n",
    "[Back to Table of Contents](#contents_table)"
   ]
  },
  {
   "cell_type": "code",
   "execution_count": 172,
   "metadata": {},
   "outputs": [
    {
     "data": {
      "image/png": "[encoded data removed]",
      "text/plain": [
       "<Figure size 432x288 with 1 Axes>"
      ]
     },
     "metadata": {
      "needs_background": "light"
     },
     "output_type": "display_data"
    }
   ],
   "source": [
    "# defining bin size of our distrbution\n",
    "\n",
    "bin_width = 50\n",
    "bin_edges = np.arange(loans_clean['investors'].min(), \n",
    "                         loans_clean['investors'].max() + bin_width,\n",
    "                         bin_width)\n",
    "\n",
    "\n",
    "# plot histogram for Borrowerrate\n",
    "\n",
    "plt.hist(data = loans_clean, x = 'investors', bins = bin_edges)\n",
    "plt.xlabel = ('investors')\n",
    "plt.ylabel = ('Count')"
   ]
  },
  {
   "cell_type": "markdown",
   "metadata": {},
   "source": [
    "#### Insights\n",
    "\n",
    "The right-skewed, uni-modal distribution of investors above points to the fact that majority of loan packages that are offered to customers have less than 200 investors. Too confirm this assumption, we'll use the describe() function to check the basic statistics of our data frame.\n"
   ]
  },
  {
   "cell_type": "code",
   "execution_count": 173,
   "metadata": {},
   "outputs": [
    {
     "data": {
      "text/html": [
       "<div>\n",
       "<style scoped>\n",
       "    .dataframe tbody tr th:only-of-type {\n",
       "        vertical-align: middle;\n",
       "    }\n",
       "\n",
       "    .dataframe tbody tr th {\n",
       "        vertical-align: top;\n",
       "    }\n",
       "\n",
       "    .dataframe thead th {\n",
       "        text-align: right;\n",
       "    }\n",
       "</style>\n",
       "<table border=\"1\" class=\"dataframe\">\n",
       "  <thead>\n",
       "    <tr style=\"text-align: right;\">\n",
       "      <th></th>\n",
       "      <th>borrowrate</th>\n",
       "      <th>investors</th>\n",
       "      <th>rating</th>\n",
       "    </tr>\n",
       "  </thead>\n",
       "  <tbody>\n",
       "    <tr>\n",
       "      <td>count</td>\n",
       "      <td>113937.000000</td>\n",
       "      <td>113937.000000</td>\n",
       "      <td>113937.000000</td>\n",
       "    </tr>\n",
       "    <tr>\n",
       "      <td>mean</td>\n",
       "      <td>0.192764</td>\n",
       "      <td>80.475228</td>\n",
       "      <td>4.072243</td>\n",
       "    </tr>\n",
       "    <tr>\n",
       "      <td>std</td>\n",
       "      <td>0.074818</td>\n",
       "      <td>103.239020</td>\n",
       "      <td>1.443961</td>\n",
       "    </tr>\n",
       "    <tr>\n",
       "      <td>min</td>\n",
       "      <td>0.000000</td>\n",
       "      <td>1.000000</td>\n",
       "      <td>1.000000</td>\n",
       "    </tr>\n",
       "    <tr>\n",
       "      <td>25%</td>\n",
       "      <td>0.134000</td>\n",
       "      <td>2.000000</td>\n",
       "      <td>3.000000</td>\n",
       "    </tr>\n",
       "    <tr>\n",
       "      <td>50%</td>\n",
       "      <td>0.184000</td>\n",
       "      <td>44.000000</td>\n",
       "      <td>4.072243</td>\n",
       "    </tr>\n",
       "    <tr>\n",
       "      <td>75%</td>\n",
       "      <td>0.250000</td>\n",
       "      <td>115.000000</td>\n",
       "      <td>5.000000</td>\n",
       "    </tr>\n",
       "    <tr>\n",
       "      <td>max</td>\n",
       "      <td>0.497500</td>\n",
       "      <td>1189.000000</td>\n",
       "      <td>7.000000</td>\n",
       "    </tr>\n",
       "  </tbody>\n",
       "</table>\n",
       "</div>"
      ],
      "text/plain": [
       "          borrowrate      investors         rating\n",
       "count  113937.000000  113937.000000  113937.000000\n",
       "mean        0.192764      80.475228       4.072243\n",
       "std         0.074818     103.239020       1.443961\n",
       "min         0.000000       1.000000       1.000000\n",
       "25%         0.134000       2.000000       3.000000\n",
       "50%         0.184000      44.000000       4.072243\n",
       "75%         0.250000     115.000000       5.000000\n",
       "max         0.497500    1189.000000       7.000000"
      ]
     },
     "execution_count": 173,
     "metadata": {},
     "output_type": "execute_result"
    }
   ],
   "source": [
    "# checking statistics of our data frame\n",
    "loans_clean.describe()"
   ]
  },
  {
   "cell_type": "markdown",
   "metadata": {},
   "source": [
    "> The statistics above confirms that 75% of loan packages offered have only 82 investors. We can hereby confidently say that the majority of loans offered to customers are not heavily-backed by investors."
   ]
  },
  {
   "cell_type": "markdown",
   "metadata": {},
   "source": [
    "### 2.2 Exploring Distribution of Loan Ratings"
   ]
  },
  {
   "cell_type": "code",
   "execution_count": 174,
   "metadata": {
    "scrolled": true
   },
   "outputs": [
    {
     "data": {
      "image/png": "[encoded data removed]",
      "text/plain": [
       "<Figure size 432x288 with 1 Axes>"
      ]
     },
     "metadata": {
      "needs_background": "light"
     },
     "output_type": "display_data"
    }
   ],
   "source": [
    "# defining bin size of our distrbution\n",
    "\n",
    "bin_width = 0.85\n",
    "bin_edges = np.arange(loans_clean['rating'].min(), \n",
    "                         loans_clean['rating'].max() + bin_width,\n",
    "                         bin_width)\n",
    "\n",
    "\n",
    "# plot histogram for Borrowerrate\n",
    "\n",
    "plt.hist(data = loans_clean, x = 'rating', bins = bin_edges)\n",
    "plt.xlabel = ('Rating')\n",
    "plt.ylabel = ('Count')\n"
   ]
  },
  {
   "cell_type": "markdown",
   "metadata": {},
   "source": [
    "#### Insights\n",
    "\n",
    "The above histogram of prosper loan ratings shows a normal and unimodal distribution. It is clear that the vast majority of borrowers have  4.0 or a 'C' prosper loan rating."
   ]
  },
  {
   "cell_type": "markdown",
   "metadata": {},
   "source": [
    "<a id='Bivariate'></a>\n",
    "## 3. Bivariate Exploration"
   ]
  },
  {
   "cell_type": "markdown",
   "metadata": {},
   "source": [
    "### 3.1 Exploring Annual Trends of BorrowerRate of Prosper Loans\n",
    "\n",
    "[Back to Table of Contents](#contents_table)\n"
   ]
  },
  {
   "cell_type": "markdown",
   "metadata": {},
   "source": [
    "I realized we did not include any variable that has time data in it. To remedy this issue, first, we need to introduce the 'LoanOriginationDate' and other relevant columns into our data frame, then we isolate the 'year' sub-section of the datetime data type.\n",
    "\n"
   ]
  },
  {
   "cell_type": "code",
   "execution_count": 175,
   "metadata": {},
   "outputs": [],
   "source": [
    "# introducing new variables column into a new Dataframe\n",
    "\n",
    "loans_clean2 = loans[['LoanOriginationDate', 'ListingCreationDate', \n",
    "                      'BorrowerRate', 'IsBorrowerHomeowner',\n",
    "                   'Investors', 'ProsperRating (numeric)']].copy()\n",
    "\n",
    "# removing space from Prosperrating column name\n",
    "loans_clean2.rename(columns = {'ProsperRating (numeric)' : 'Rating'}, inplace=True)"
   ]
  },
  {
   "cell_type": "code",
   "execution_count": 176,
   "metadata": {
    "scrolled": true
   },
   "outputs": [
    {
     "name": "stdout",
     "output_type": "stream",
     "text": [
      "<class 'pandas.core.frame.DataFrame'>\n",
      "RangeIndex: 113937 entries, 0 to 113936\n",
      "Data columns (total 6 columns):\n",
      "LoanOriginationDate    113937 non-null object\n",
      "ListingCreationDate    113937 non-null object\n",
      "BorrowerRate           113937 non-null float64\n",
      "IsBorrowerHomeowner    113937 non-null bool\n",
      "Investors              113937 non-null int64\n",
      "Rating                 84853 non-null float64\n",
      "dtypes: bool(1), float64(2), int64(1), object(2)\n",
      "memory usage: 4.5+ MB\n"
     ]
    }
   ],
   "source": [
    "loans_clean2.info()"
   ]
  },
  {
   "cell_type": "code",
   "execution_count": 177,
   "metadata": {},
   "outputs": [],
   "source": [
    "# next we extract the year from the LoanOriginationDate \n",
    "# and we also create a separate column for year data\n",
    "loans_clean2['year_loan'] = loans_clean2.LoanOriginationDate.str.split('-').str[0]"
   ]
  },
  {
   "cell_type": "code",
   "execution_count": 178,
   "metadata": {
    "scrolled": true
   },
   "outputs": [
    {
     "name": "stdout",
     "output_type": "stream",
     "text": [
      "<class 'pandas.core.frame.DataFrame'>\n",
      "RangeIndex: 113937 entries, 0 to 113936\n",
      "Data columns (total 7 columns):\n",
      "LoanOriginationDate    113937 non-null object\n",
      "ListingCreationDate    113937 non-null object\n",
      "BorrowerRate           113937 non-null float64\n",
      "IsBorrowerHomeowner    113937 non-null bool\n",
      "Investors              113937 non-null int64\n",
      "Rating                 84853 non-null float64\n",
      "year_loan              113937 non-null object\n",
      "dtypes: bool(1), float64(2), int64(1), object(3)\n",
      "memory usage: 5.3+ MB\n"
     ]
    }
   ],
   "source": [
    "# checking to confirm our column has been created\n",
    "loans_clean2.info()"
   ]
  },
  {
   "cell_type": "code",
   "execution_count": 179,
   "metadata": {},
   "outputs": [
    {
     "name": "stdout",
     "output_type": "stream",
     "text": [
      "2013    34345\n",
      "2012    19553\n",
      "2014    12172\n",
      "2008    11552\n",
      "2007    11460\n",
      "2011    11228\n",
      "2006     5906\n",
      "2010     5652\n",
      "2009     2047\n",
      "2005       22\n",
      "Name: year_loan, dtype: int64\n"
     ]
    }
   ],
   "source": [
    "# checking all values in our year column\n",
    "\n",
    "print(loans_clean2.year_loan.value_counts())"
   ]
  },
  {
   "cell_type": "code",
   "execution_count": 192,
   "metadata": {},
   "outputs": [],
   "source": [
    "# saving the new dataframe to csv\n",
    "loans_clean2.to_csv('loans_clean2.csv', index=False);"
   ]
  },
  {
   "cell_type": "code",
   "execution_count": 180,
   "metadata": {
    "scrolled": true
   },
   "outputs": [
    {
     "data": {
      "image/png": "[encoded data removed]",
      "text/plain": [
       "<Figure size 432x288 with 1 Axes>"
      ]
     },
     "metadata": {
      "needs_background": "light"
     },
     "output_type": "display_data"
    }
   ],
   "source": [
    "# plotting a point plot for BorrowerRate against Year data\n",
    "\n",
    "sb.pointplot(data = loans_clean2, x = 'year_loan', y = 'BorrowerRate')\n",
    "\n",
    "plt.xlabel = ('Loan Year')\n",
    "plt.ylabel = ('BorrowerRate')"
   ]
  },
  {
   "cell_type": "markdown",
   "metadata": {},
   "source": [
    "#### Insights\n",
    "\n",
    "As expected, we see a sharp reduction in lending activity arounf 2007/2008 during the global economic recession. Afterwards, the lending instry has experienced a rebound and so far, Prosper has seen its highest lending activity in 2011. \n",
    "\n",
    "Prospers success in 2011 may have been a signal to other startups that the lending industry was ready for distruption. Therefore, we see Prosper's lending activity experienced a steady decline from 2012 to 2014 - this is probably due to stiff competition in the lending industry. However, there is room for growth as the industry is still burgeoning.\n",
    "\n"
   ]
  },
  {
   "cell_type": "markdown",
   "metadata": {},
   "source": [
    "Let's proceed to compare data the ListingCreationDate with BorrowerRate and see what insights we could from this relationship and that of LoanOriginationDate vs. BorrowerRate"
   ]
  },
  {
   "cell_type": "code",
   "execution_count": 181,
   "metadata": {},
   "outputs": [],
   "source": [
    "# first we extract the year from the ListingCreationDate \n",
    "# then we also create a separate column for year data\n",
    "loans_clean2['year_list'] = loans_clean2.ListingCreationDate.str.split('-').str[0]"
   ]
  },
  {
   "cell_type": "code",
   "execution_count": 182,
   "metadata": {
    "scrolled": true
   },
   "outputs": [
    {
     "name": "stdout",
     "output_type": "stream",
     "text": [
      "<class 'pandas.core.frame.DataFrame'>\n",
      "RangeIndex: 113937 entries, 0 to 113936\n",
      "Data columns (total 8 columns):\n",
      "LoanOriginationDate    113937 non-null object\n",
      "ListingCreationDate    113937 non-null object\n",
      "BorrowerRate           113937 non-null float64\n",
      "IsBorrowerHomeowner    113937 non-null bool\n",
      "Investors              113937 non-null int64\n",
      "Rating                 84853 non-null float64\n",
      "year_loan              113937 non-null object\n",
      "year_list              113937 non-null object\n",
      "dtypes: bool(1), float64(2), int64(1), object(4)\n",
      "memory usage: 6.2+ MB\n"
     ]
    }
   ],
   "source": [
    "# checking to confirm our column has been created\n",
    "loans_clean2.info()\n"
   ]
  },
  {
   "cell_type": "code",
   "execution_count": 183,
   "metadata": {
    "scrolled": true
   },
   "outputs": [
    {
     "name": "stdout",
     "output_type": "stream",
     "text": [
      "2013    35413\n",
      "2012    19556\n",
      "2007    11557\n",
      "2011    11442\n",
      "2008    11263\n",
      "2014    10734\n",
      "2006     6213\n",
      "2010     5530\n",
      "2009     2206\n",
      "2005       23\n",
      "Name: year_list, dtype: int64\n"
     ]
    }
   ],
   "source": [
    "# checking all values in our year column\n",
    "\n",
    "print(loans_clean2.year_list.value_counts())"
   ]
  },
  {
   "cell_type": "code",
   "execution_count": 184,
   "metadata": {},
   "outputs": [],
   "source": [
    "# setting plot color parameter to a default\n",
    "\n",
    "plot_color = sb.color_palette()[0]"
   ]
  },
  {
   "cell_type": "code",
   "execution_count": 185,
   "metadata": {
    "scrolled": true
   },
   "outputs": [
    {
     "data": {
      "image/png": "[encoded data removed]",
      "text/plain": [
       "<Figure size 432x288 with 1 Axes>"
      ]
     },
     "metadata": {
      "needs_background": "light"
     },
     "output_type": "display_data"
    }
   ],
   "source": [
    "# plotting a point plot for BorrowerRate against Year data\n",
    "\n",
    "sb.boxplot(data = loans_clean2, x = 'year_list', y = 'BorrowerRate', \n",
    "           color = plot_color)\n",
    "\n",
    "plt.xlabel = ('Listing Year')\n",
    "plt.ylabel = ('BorrowerRate')"
   ]
  },
  {
   "cell_type": "markdown",
   "metadata": {},
   "source": [
    "#### Insights\n",
    "\n",
    "The above boxplot reveals a similar trend in annual performance of Prosper's Loan offereings as we saw in the point plot comparing Loan_yea and Borrower Rate. It's safe to say, our assumptions may be correct."
   ]
  },
  {
   "cell_type": "markdown",
   "metadata": {},
   "source": [
    "<a id='Multivariate'></a>\n",
    "\n",
    "## 4.0 Mulivariate Exploration\n",
    "\n",
    "[Back to Table of Contents](#contents_table)"
   ]
  },
  {
   "cell_type": "markdown",
   "metadata": {},
   "source": [
    "### 4.1 Exploring Relationship between BorrowerRate, ProsperRatings and Home-Owning Customers\n",
    "\n",
    "The broader perspective for this exploration is to know answer the following question: Do property owners get a better rating and premiums than non-property owners? \n",
    "\n",
    "Let's find out by using a multivariate analysis of the 3 variables: ratings, isborrowerhomeowner and borrowerrate"
   ]
  },
  {
   "cell_type": "code",
   "execution_count": 186,
   "metadata": {
    "scrolled": true
   },
   "outputs": [
    {
     "data": {
      "image/png": "[encoded data removed]",
      "text/plain": [
       "<Figure size 432x288 with 1 Axes>"
      ]
     },
     "metadata": {
      "needs_background": "light"
     },
     "output_type": "display_data"
    }
   ],
   "source": [
    "# plotting a boxplot to explore all 3 variables\n",
    "\n",
    "#sb.boxplot(data = loans_clean2, x = 'Rating', y = 'BorrowerRate', hue = 'IsBorrowerHomeowner');\n",
    "\n",
    "# customizing width and height of plot\n",
    "\n",
    "dim = sb.scatterplot(data = loans_clean2, x = 'Rating', y = 'BorrowerRate', hue = 'IsBorrowerHomeowner');\n",
    "dim.figure.set_figwidth(6)\n",
    "dim.figure.set_figheight(4)"
   ]
  },
  {
   "cell_type": "markdown",
   "metadata": {},
   "source": [
    "#### Insights\n",
    "\n",
    "The plot above shows that the majority of non-home owners get a 2.0 rating. We can also see there are fewer non-home owners with a 7.0 Prosper Rating - this suggests that owning a property may incrase the chances of getting a higher Prosper Rating therefore making a customer more eligible for a better loan offering."
   ]
  },
  {
   "cell_type": "code",
   "execution_count": 187,
   "metadata": {},
   "outputs": [
    {
     "name": "stdout",
     "output_type": "stream",
     "text": [
      "<class 'pandas.core.frame.DataFrame'>\n",
      "RangeIndex: 113937 entries, 0 to 113936\n",
      "Data columns (total 8 columns):\n",
      "LoanOriginationDate    113937 non-null object\n",
      "ListingCreationDate    113937 non-null object\n",
      "BorrowerRate           113937 non-null float64\n",
      "IsBorrowerHomeowner    113937 non-null bool\n",
      "Investors              113937 non-null int64\n",
      "Rating                 84853 non-null float64\n",
      "year_loan              113937 non-null object\n",
      "year_list              113937 non-null object\n",
      "dtypes: bool(1), float64(2), int64(1), object(4)\n",
      "memory usage: 6.2+ MB\n"
     ]
    }
   ],
   "source": [
    "loans_clean2.info()"
   ]
  },
  {
   "cell_type": "markdown",
   "metadata": {},
   "source": [
    "### 4.2 Exploring Yearly Trend in Prosper BorrowerRate for Home Owners versus Non-Home Owners"
   ]
  },
  {
   "cell_type": "code",
   "execution_count": 188,
   "metadata": {},
   "outputs": [
    {
     "data": {
      "image/png": "[encoded data removed]",
      "text/plain": [
       "<Figure size 1296x648 with 1 Axes>"
      ]
     },
     "metadata": {
      "needs_background": "light"
     },
     "output_type": "display_data"
    }
   ],
   "source": [
    "# plotting a boxplot to explore all 3 variables\n",
    "\n",
    "sb.boxplot(data = loans_clean2, x = 'year_loan', y = 'BorrowerRate', hue = 'IsBorrowerHomeowner');\n",
    "\n",
    "# customizing width and height of plot\n",
    "\n",
    "dim = sb.boxplot(data = loans_clean2, x = 'year_loan', y = 'BorrowerRate', hue = 'IsBorrowerHomeowner');\n",
    "dim.figure.set_figwidth(18)\n",
    "dim.figure.set_figheight(9)"
   ]
  },
  {
   "cell_type": "markdown",
   "metadata": {},
   "source": [
    "#### Insights\n",
    "\n",
    "The plot above, we can see that the median premium(BorrowerRate) for home-owning customers is always lesser than the counterpart for each year that passes. It seems that the increase in premiums is a way for lenders to hedge the risks involved in lending to non-home owners. \n",
    "\n",
    "We can also infer from the plot that the greatest difference in premiums was evident between 2008 and 2010. This suggests that the bigger gap in premiums betwen Home owners and Non-Home owners may have been a coping mecahnism for Prosper to endure the 2008 financial crises and the few years that came after 2008"
   ]
  }
 ],
 "metadata": {
  "kernelspec": {
   "display_name": "Python 3",
   "language": "python",
   "name": "python3"
  },
  "language_info": {
   "codemirror_mode": {
    "name": "ipython",
    "version": 3
   },
   "file_extension": ".py",
   "mimetype": "text/x-python",
   "name": "python",
   "nbconvert_exporter": "python",
   "pygments_lexer": "ipython3",
   "version": "3.7.4"
  }
 },
 "nbformat": 4,
 "nbformat_minor": 2
}
